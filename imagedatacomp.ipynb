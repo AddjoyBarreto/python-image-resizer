{
 "cells": [
  {
   "cell_type": "code",
   "execution_count": 1,
   "metadata": {},
   "outputs": [],
   "source": [
    "#  from PIL import Image"
   ]
  },
  {
   "cell_type": "code",
   "execution_count": 2,
   "metadata": {},
   "outputs": [],
   "source": [
    "# #load the image\n",
    "# img  = Image.open('./diffflowers.jpg')      \n",
    "# # On successful execution of this statement, \n",
    "# # an object of Image type is returned and stored in img variable) \n"
   ]
  },
  {
   "cell_type": "code",
   "execution_count": 3,
   "metadata": {},
   "outputs": [],
   "source": [
    "# #Get basic details about the image\n",
    "# print(img.format)\n",
    "# print(img.mode)\n",
    "# print(img.size)\n",
    "\n",
    "# #show the image\n",
    "# img.show()"
   ]
  },
  {
   "cell_type": "code",
   "execution_count": 4,
   "metadata": {},
   "outputs": [],
   "source": [
    "# print(img)"
   ]
  },
  {
   "cell_type": "code",
   "execution_count": 1,
   "metadata": {},
   "outputs": [],
   "source": [
    "import cv2\n",
    "  \n",
    "image = cv2.imread('./diffflowers.jpg')\n",
    "gray = cv2.cvtColor(image, cv2.COLOR_BGR2GRAY)\n",
    "  \n",
    "cv2.imshow('Original image',image)\n",
    "cv2.imshow('Gray image', gray)\n",
    "  \n",
    "cv2.waitKey(0)\n",
    "cv2.destroyAllWindows()"
   ]
  },
  {
   "cell_type": "code",
   "execution_count": 2,
   "metadata": {},
   "outputs": [
    {
     "name": "stdout",
     "output_type": "stream",
     "text": [
      " original image:  151875 \n",
      " gray image:       50625\n"
     ]
    }
   ],
   "source": [
    "print(\" original image: \",image.size,\"\\n gray image:      \",gray.size)"
   ]
  },
  {
   "cell_type": "markdown",
   "metadata": {},
   "source": [
    "Down Scale"
   ]
  },
  {
   "cell_type": "code",
   "execution_count": 3,
   "metadata": {},
   "outputs": [
    {
     "name": "stdout",
     "output_type": "stream",
     "text": [
      "Original Dimensions :  (225, 225)\n",
      "Resized Dimensions :  (135, 135)\n",
      "Original size :  50625\n",
      "Resized size :  18225\n"
     ]
    }
   ],
   "source": [
    "scale_percent = 60 # percent of original size\n",
    "width = int(gray.shape[1] * scale_percent / 100)\n",
    "height = int(gray.shape[0] * scale_percent / 100)\n",
    "dim = (width, height)\n",
    "# resize image\n",
    "resized = cv2.resize(gray, dim, interpolation = cv2.INTER_AREA)\n",
    " \n",
    "print('Original Dimensions : ',gray.shape)\n",
    "print('Resized Dimensions : ',resized.shape)\n",
    "\n",
    "print('Original size : ',gray.size)\n",
    "print('Resized size : ',resized.size)\n",
    "cv2.imwrite('reducegray.jpg',resized.size)\n",
    " \n",
    "cv2.imshow(\"Resized image\", resized)\n",
    "cv2.waitKey(0)\n",
    "cv2.destroyAllWindows()\n",
    " "
   ]
  },
  {
   "cell_type": "markdown",
   "metadata": {},
   "source": [
    "up Scale"
   ]
  },
  {
   "cell_type": "code",
   "execution_count": 77,
   "metadata": {},
   "outputs": [
    {
     "name": "stdout",
     "output_type": "stream",
     "text": [
      "Original Dimensions :  (225, 225)\n",
      "Resized Dimensions :  (495, 495)\n"
     ]
    }
   ],
   "source": [
    "print('Original Dimensions : ',gray.shape)   # the original gray image\n",
    " \n",
    "scale_percent = 220 # percent of original size\n",
    "width = int(gray.shape[1] * scale_percent / 100)\n",
    "height = int(gray.shape[0] * scale_percent / 100)\n",
    "dim = (width, height)\n",
    "# resize image\n",
    "resized = cv2.resize(gray, dim, interpolation = cv2.INTER_AREA)\n",
    " \n",
    "print('Resized Dimensions : ',resized.shape)\n",
    " \n",
    "cv2.imshow(\"Resized image\", resized)\n",
    "cv2.waitKey(0)\n",
    "cv2.destroyAllWindows()"
   ]
  },
  {
   "cell_type": "code",
   "execution_count": 60,
   "metadata": {},
   "outputs": [],
   "source": [
    "# # adjust width and height to your needs\n",
    "# width = int(500)\n",
    "# height = int(420)\n",
    "# # use one of these filter options to resize the image\n",
    "# im2 = gray.resize((width, height), Image.NEAREST)      # use nearest neighbour\n",
    "# im3 = gray.resize((width, height), Image.BILINEAR)     # linear interpolation in a 2x2 environment\n",
    "# im4 = gray.resize((width, height), Image.BICUBIC)      # cubic spline interpolation in a 4x4 environment\n",
    "# im5 = gray.resize((width, height), Image.ANTIALIAS)    # best down-sizing filter\n",
    "# ext = \".jpg\"\n",
    "# im2.save(\"NEAREST\" + ext)\n",
    "# im3.save(\"BILINEAR\" + ext)\n",
    "# im4.save(\"BICUBIC\" + ext)\n",
    "# im5.save(\"ANTIALIAS\" + ext)"
   ]
  },
  {
   "cell_type": "code",
   "execution_count": 8,
   "metadata": {},
   "outputs": [],
   "source": [
    "# import numpy as np\n",
    "# import matplotlib.pyplot as plt\n",
    "# from PIL import Image\n",
    "\n",
    "# from skimage import data\n",
    "# from skimage.color import rgb2gray\n",
    "\n",
    "# original = Image.open('diffflowers.jpg')\n",
    "# grayscale = rgb2gray(original)\n",
    "\n",
    "# fig, axes = plt.subplots(1, 2, figsize=(8, 4))\n",
    "# ax = axes.ravel()\n",
    "\n",
    "# ax[0].imshow(original)\n",
    "# ax[0].set_title(\"Original\")\n",
    "# ax[1].imshow(grayscale, cmap=plt.cm.gray)\n",
    "# ax[1].set_title(\"Grayscale\")\n",
    "\n",
    "# fig.tight_layout()\n",
    "# plt.show()"
   ]
  },
  {
   "cell_type": "code",
   "execution_count": 6,
   "metadata": {},
   "outputs": [
    {
     "name": "stdout",
     "output_type": "stream",
     "text": [
      "small Dimensions :  (135, 135)\n",
      "Resized Dimensions :  (297, 297)\n"
     ]
    }
   ],
   "source": [
    "print('small Dimensions : ',resized.shape)   # the original gray image\n",
    " \n",
    "scale_percent = 220 # percent of original size\n",
    "width = int(resized.shape[1] * scale_percent / 100)\n",
    "height = int(resized.shape[0] * scale_percent / 100)\n",
    "dim = (width, height)\n",
    "# resize image\n",
    "bresized = cv2.resize(gray, dim, interpolation = cv2.INTER_AREA)\n",
    " \n",
    "print('Resized Dimensions : ',bresized.shape)\n",
    " \n",
    "cv2.imshow(\"Resized gray image\", bresized)\n",
    "cv2.waitKey(0)\n",
    "cv2.destroyAllWindows()"
   ]
  },
  {
   "cell_type": "code",
   "execution_count": 8,
   "metadata": {},
   "outputs": [],
   "source": [
    "backtorgb = cv2.cvtColor(bresized,cv2.COLOR_GRAY2RGB)\n",
    "\n",
    "cv2.imshow(\"Resized colored image\", backtorgb)\n",
    "cv2.waitKey(0)\n",
    "cv2.destroyAllWindows()"
   ]
  },
  {
   "cell_type": "code",
   "execution_count": 13,
   "metadata": {},
   "outputs": [],
   "source": [
    "image1 = cv2.imread('./reducegray.jpg')\n",
    "cv2.imshow('Original image',image1)"
   ]
  },
  {
   "cell_type": "code",
   "execution_count": null,
   "metadata": {},
   "outputs": [],
   "source": []
  }
 ],
 "metadata": {
  "kernelspec": {
   "display_name": "Python 3",
   "language": "python",
   "name": "python3"
  },
  "language_info": {
   "codemirror_mode": {
    "name": "ipython",
    "version": 3
   },
   "file_extension": ".py",
   "mimetype": "text/x-python",
   "name": "python",
   "nbconvert_exporter": "python",
   "pygments_lexer": "ipython3",
   "version": "3.7.1"
  }
 },
 "nbformat": 4,
 "nbformat_minor": 2
}
